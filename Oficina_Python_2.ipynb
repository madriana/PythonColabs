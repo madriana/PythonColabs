{
  "nbformat": 4,
  "nbformat_minor": 0,
  "metadata": {
    "colab": {
      "provenance": [],
      "authorship_tag": "ABX9TyN82cp0XbSUBDYutl5DgB30"
    },
    "kernelspec": {
      "name": "python3",
      "display_name": "Python 3"
    },
    "language_info": {
      "name": "python"
    }
  },
  "cells": [
    {
      "cell_type": "markdown",
      "source": [
        "![image.png](data:image/png;base64,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)\n",
        "# **Oficina de Introdução à Programação em Python**\n",
        "Outubro - 2023"
      ],
      "metadata": {
        "id": "6aZPnaIBB0uc"
      }
    },
    {
      "cell_type": "markdown",
      "source": [
        "Bem-vindas e bem-vindos à oficina de programação em Python. Neste ambiente colaborativo, vamos aprender as **instruções básicas da linguagem Python**: estruturas de decisão e de repetição."
      ],
      "metadata": {
        "id": "SoQlfp_YDIsh"
      }
    },
    {
      "cell_type": "markdown",
      "source": [
        "# **3. Estruturas de Decisão**\n"
      ],
      "metadata": {
        "id": "Y2TrorcZFsBw"
      }
    },
    {
      "cell_type": "markdown",
      "source": [
        "Na linguagem Python, o **comando `if`** é utilizado quando queremos executar um ou mais comandos que estejam sujeitos ao resultado de um teste baseado em uma\n",
        "condição. A forma geral de um comando `if` é:\n",
        "```\n",
        "if condição:\n",
        "   comando 1\n",
        "   comando 2\n",
        "   ...\n",
        "   comando N\n",
        "continuação do programa\n",
        "```"
      ],
      "metadata": {
        "id": "jWdtGNirGli_"
      }
    },
    {
      "cell_type": "code",
      "source": [
        "x = int(input(\"Digite um valor inteiro: \"))\n",
        "if x % 2 == 0:\n",
        "   print(\"O número\", x, \"é par.\")\n",
        "print(\"Fim do programa\")"
      ],
      "metadata": {
        "id": "Mox42vrtH_US"
      },
      "execution_count": null,
      "outputs": []
    },
    {
      "cell_type": "markdown",
      "source": [
        "O **comando `else`** pode ser utilizando em conjunto com o comando `if` para indicar o que deve ser feito caso a condição não seja satisfeita. A forma geral de um comando else é:\n",
        "\n",
        "```\n",
        "if condição:\n",
        "    comando 1\n",
        "    comando 2\n",
        "    ...\n",
        "    comando N\n",
        "else:\n",
        "    comando 1\n",
        "    comando 2\n",
        "    ...\n",
        "    comando N\n",
        "continuação do programa\n",
        "```"
      ],
      "metadata": {
        "id": "9VIkE3_cIBkI"
      }
    },
    {
      "cell_type": "code",
      "source": [
        "x = int(input(\"Digite um valor inteiro: \"))\n",
        "if x % 2 == 0:\n",
        "   print(\"O número\", x, \"é par.\")     # caso condição verdadeira\n",
        "else:\n",
        "   print(\"O número\", x, \"é ímpar.\")   # caso condição falsa\n",
        "print(\"Fim do programa\")"
      ],
      "metadata": {
        "id": "k-UjHqPxICMQ"
      },
      "execution_count": null,
      "outputs": []
    },
    {
      "cell_type": "markdown",
      "source": [
        "O **comando `elif`** é uma abreviação de `else if` e é usado para programar condições adicionais após um `if` ou uma série de `if`s consecutivos. Com o `elif` várias condições diferentes podem ser programadas, conforme exemplo a seguir."
      ],
      "metadata": {
        "id": "6yqCxycVKWEa"
      }
    },
    {
      "cell_type": "code",
      "source": [
        "x = int(input(\"Digite um valor inteiro: \"))\n",
        "if x == 0:\n",
        "   print(\"O número\", x, \"é igual a zero\")\n",
        "elif x > 0:\n",
        "   print(\"O número\", x, \"é positivo\")\n",
        "else:\n",
        "   print(\"O número\", x, \"é negativo\")\n",
        "print(\"Fim do programa\")"
      ],
      "metadata": {
        "id": "5YWZXygPKkIB"
      },
      "execution_count": null,
      "outputs": []
    },
    {
      "cell_type": "markdown",
      "source": [
        "**TAREFA**: Programe em Python instruções para:\n",
        "1. Pedir dois números e imprimir o maior deles.\n",
        "2. Pedir duas notas parciais de um aluno, calcular a média alcançada por aluno e apresentar:\n",
        "> * A mensagem \"Aprovado\", se a média alcançada for maior ou igual a sete;\n",
        "> * A mensagem \"Reprovado\", se a média for menor do que sete;\n",
        "> * A mensagem \"Aprovado com Distinção\", se a média for igual a dez.\n",
        "\n"
      ],
      "metadata": {
        "id": "cBWUJyqiHaH5"
      }
    },
    {
      "cell_type": "markdown",
      "source": [
        "# **4 . Estruturas de Repetição**"
      ],
      "metadata": {
        "id": "LHJnTq8G7yLu"
      }
    },
    {
      "cell_type": "markdown",
      "source": [
        "O **`while`** é uma estrutura de repetição utilizada quando deseja-se que determinado bloco de código seja executado ENQUANTO determinada condição for satisfeita.\n",
        "\n",
        "Sua sintaxe básica é:\n",
        "```\n",
        "while <condição>:\n",
        "      comando 1\n",
        "      comando 2\n",
        "      ....\n",
        "      comando N\n",
        "continuação do programa      \n",
        "```\n",
        "Aqui, `<condição>` é uma expressão que pode ser reduzida à `True` ou `False`.\n",
        "\n",
        "Vamos entender melhor com um exemplo: Contar de 1 até 10"
      ],
      "metadata": {
        "id": "JPTMK5sa76M9"
      }
    },
    {
      "cell_type": "code",
      "source": [
        "contador = 1\n",
        "while contador <= 10:             # condição: enquanto contador for menor ou igual a 10\n",
        "    print(\"Número :\", contador)\n",
        "    contador = contador + 1       # ou pode-se usar a atribuição simplificada: contador += 1"
      ],
      "metadata": {
        "id": "w90Ai1Tz88kx"
      },
      "execution_count": null,
      "outputs": []
    },
    {
      "cell_type": "code",
      "source": [
        "lista = [1, 2, 3, 4, 5, 6, 7, 8, 9, 10]\n",
        "\n",
        "for elemento in lista:           # para cada elemento contido na lista\n",
        "    print(\"Numero: \", elemento)"
      ],
      "metadata": {
        "id": "SZGQZBQ19S0I"
      },
      "execution_count": null,
      "outputs": []
    },
    {
      "cell_type": "markdown",
      "source": [
        "**TAREFAS**:\n",
        "1. Faça um programa que peça uma nota, entre zero e dez. Mostre uma mensagem caso o valor seja inválido e continue pedindo até que o usuário informe um valor válido. Usar o comando `while`.\n",
        "2. Faça um programa que leia 5 números e informe o maior número.\n",
        "3. Faça um programa que leia 5 números e informe a soma e a média dos números.\n",
        "4. Faça um programa que imprima na tela apenas os números ímpares entre 1 e 50."
      ],
      "metadata": {
        "id": "O85EozGD7kBe"
      }
    }
  ]
}