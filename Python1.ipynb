{
  "nbformat": 4,
  "nbformat_minor": 0,
  "metadata": {
    "colab": {
      "provenance": []
    },
    "kernelspec": {
      "name": "python3",
      "display_name": "Python 3"
    },
    "language_info": {
      "name": "python"
    }
  },
  "cells": [
    {
      "cell_type": "markdown",
      "source": [
        "# **Exercícios Práticos - Imprimir valores em Python**"
      ],
      "metadata": {
        "id": "kQvSjsys5coH"
      }
    },
    {
      "cell_type": "markdown",
      "source": [
        "**1. Impressão Simples**"
      ],
      "metadata": {
        "id": "U4_zGCTEBiMr"
      }
    },
    {
      "cell_type": "code",
      "execution_count": null,
      "metadata": {
        "id": "gL5Hk9lF5PpE"
      },
      "outputs": [],
      "source": [
        "print('ola')"
      ]
    },
    {
      "cell_type": "code",
      "source": [
        "print(\"olá\")"
      ],
      "metadata": {
        "id": "JeGhLBVcCE-9"
      },
      "execution_count": null,
      "outputs": []
    },
    {
      "cell_type": "markdown",
      "source": [
        "**Observação**: *Em Python, não há diferença funcional entre usar aspas simples (') ou aspas duplas (\"). Ambas podem ser usadas para delimitar sentenças.*"
      ],
      "metadata": {
        "id": "QPIljhPSCeEG"
      }
    },
    {
      "cell_type": "markdown",
      "source": [
        "**2. Impressão com tabulação e quebra de linha**"
      ],
      "metadata": {
        "id": "ugF5fENiB2yy"
      }
    },
    {
      "cell_type": "code",
      "source": [
        "print(\"Bom\")\n",
        "print(\"Dia\")"
      ],
      "metadata": {
        "id": "iMYq4yP_DFyP"
      },
      "execution_count": null,
      "outputs": []
    },
    {
      "cell_type": "code",
      "source": [
        "print('Bom\\nDia')"
      ],
      "metadata": {
        "id": "odQjO8qzB1dQ"
      },
      "execution_count": null,
      "outputs": []
    },
    {
      "cell_type": "markdown",
      "source": [
        "**Observação**: *O `\\n` em Python representa uma quebra de linha. Ele faz com que o texto continue na próxima linha quando impresso.*"
      ],
      "metadata": {
        "id": "gCo6ihvODPuy"
      }
    },
    {
      "cell_type": "code",
      "source": [
        "print(\"Serenata\\nVinicius de Moraes\\n\")\n",
        "print(\"Ponho a minha música ao vento\\nNos teus cabelos\\nPara ver se encontro o teu pensamento...\")"
      ],
      "metadata": {
        "id": "NEWHc-KaB9df"
      },
      "execution_count": null,
      "outputs": []
    },
    {
      "cell_type": "code",
      "source": [
        "print(\"Nome\\tIdade\\tCidade\")\n",
        "print(\"Ana\\t16\\tSão Paulo\")"
      ],
      "metadata": {
        "id": "XKCV_I_BB89Z"
      },
      "execution_count": null,
      "outputs": []
    },
    {
      "cell_type": "markdown",
      "source": [
        "**Observação**: *O `\\t` em Python representa uma tabulação horizontal (tab), criando um espaço extra entre os textos, como se fosse um avanço de tecla Tab no teclado.*"
      ],
      "metadata": {
        "id": "22zoPOBhEIHs"
      }
    },
    {
      "cell_type": "markdown",
      "source": [
        " **3. Impressão de números e valores com separadores**"
      ],
      "metadata": {
        "id": "GWXl0hQrEwgM"
      }
    },
    {
      "cell_type": "code",
      "source": [
        "print(1+1)"
      ],
      "metadata": {
        "id": "SMX1bilo6g1g"
      },
      "execution_count": null,
      "outputs": []
    },
    {
      "cell_type": "code",
      "source": [
        "print(1,2,3)"
      ],
      "metadata": {
        "id": "e4EkSQL1E8JI"
      },
      "execution_count": null,
      "outputs": []
    },
    {
      "cell_type": "code",
      "source": [
        "print(\"Bom dia em\", \"Uberlândia\")"
      ],
      "metadata": {
        "id": "PXdPjezsHfOp"
      },
      "execution_count": null,
      "outputs": []
    },
    {
      "cell_type": "code",
      "source": [
        "print(\"Bom dia em\",2025)"
      ],
      "metadata": {
        "id": "SWqRqNzWHT-U"
      },
      "execution_count": null,
      "outputs": []
    },
    {
      "cell_type": "code",
      "source": [
        "print(1,2,3,sep = \",\")"
      ],
      "metadata": {
        "id": "UGz3P3JqFASg"
      },
      "execution_count": null,
      "outputs": []
    },
    {
      "cell_type": "markdown",
      "source": [
        "**Observação**: Se você quiser exibir valores separados por vírgulas, pode usar o argumento `sep=\",\"` dentro do `print()`."
      ],
      "metadata": {
        "id": "OVC-j8xkFH90"
      }
    },
    {
      "cell_type": "code",
      "source": [],
      "metadata": {
        "id": "PuJImwTvE9oY"
      },
      "execution_count": null,
      "outputs": []
    }
  ]
}